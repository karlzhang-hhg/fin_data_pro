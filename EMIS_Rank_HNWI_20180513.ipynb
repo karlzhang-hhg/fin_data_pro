{
 "cells": [
  {
   "cell_type": "code",
   "execution_count": 1,
   "metadata": {
    "collapsed": false
   },
   "outputs": [
    {
     "data": {
      "text/plain": [
       "(1287, 34)"
      ]
     },
     "execution_count": 1,
     "metadata": {},
     "output_type": "execute_result"
    }
   ],
   "source": [
    "import pickle\n",
    "import numpy as np\n",
    "import pandas as pd\n",
    "\n",
    "df_total_liquidity_person_nonzero = pd.read_pickle('../../Database/EMIS/preprocessed/shareholder_info_nonzero_liq_20180314.pickle')\n",
    "df_total_liquidity_person_nonzero.shape"
   ]
  },
  {
   "cell_type": "code",
   "execution_count": 10,
   "metadata": {
    "collapsed": false
   },
   "outputs": [
    {
     "data": {
      "text/plain": [
       "0                Management of Companies and Enterprises \n",
       "1                  Support Activities for Transportation \n",
       "2                      Motor Vehicle Parts Manufacturing \n",
       "3         Data Processing, Hosting, and Related Services \n",
       "4       Professional, Scientific, and Technical Services \n",
       "5              Pharmaceutical and Medicine Manufacturing \n",
       "6                                  Apparel Manufacturing \n",
       "7                                  Apparel Manufacturing \n",
       "8       Other Chemical Product and Preparation Manufac...\n",
       "9       Other Chemical Product and Preparation Manufac...\n",
       "10      Computer Systems Design Services ; Internet Pu...\n",
       "11      Computer Systems Design Services ; Internet Pu...\n",
       "12      Computer Systems Design Services ; Internet Pu...\n",
       "13      Utility System Construction ; Professional, Sc...\n",
       "14      Utility System Construction ; Professional, Sc...\n",
       "15          Computer Systems Design and Related Services \n",
       "16                          All Other Food Manufacturing \n",
       "17                          All Other Food Manufacturing \n",
       "18             Insurance Carriers and Related Activities \n",
       "19                     Motor Vehicle Parts Manufacturing \n",
       "20      Professional, Scientific, and Technical Servic...\n",
       "21      Professional, Scientific, and Technical Servic...\n",
       "22      Professional, Scientific, and Technical Servic...\n",
       "23      Professional, Scientific, and Technical Servic...\n",
       "24                                 Apparel Manufacturing \n",
       "25      Clothing and Clothing Accessories Stores ; Mer...\n",
       "26          Motor Vehicle Body and Trailer Manufacturing \n",
       "27          Motor Vehicle Body and Trailer Manufacturing \n",
       "28          Motor Vehicle Body and Trailer Manufacturing \n",
       "29                      Computer Systems Design Services \n",
       "                              ...                        \n",
       "1257                 Administrative and Support Services \n",
       "1258    Merchant Wholesalers, Nondurable Goods ; Manuf...\n",
       "1259    Securities, Commodity Contracts, and Other Fin...\n",
       "1260           Insurance Carriers and Related Activities \n",
       "1261    Petrochemical Manufacturing ; Paper Manufactur...\n",
       "1262    Petrochemical Manufacturing ; Paper Manufactur...\n",
       "1263    Petrochemical Manufacturing ; Paper Manufactur...\n",
       "1264    Petrochemical Manufacturing ; Paper Manufactur...\n",
       "1265             Management of Companies and Enterprises \n",
       "1266             Management of Companies and Enterprises \n",
       "1267    Petrochemical Manufacturing ; Resin, Synthetic...\n",
       "1268                   Household Appliance Manufacturing \n",
       "1269       Sugar and Confectionery Product Manufacturing \n",
       "1270             Management of Companies and Enterprises \n",
       "1271             Management of Companies and Enterprises \n",
       "1272             Management of Companies and Enterprises \n",
       "1273             Management of Companies and Enterprises \n",
       "1274             Management of Companies and Enterprises \n",
       "1275    Biomass Electric Power Generation ; Starch and...\n",
       "1276             Management of Companies and Enterprises \n",
       "1277             Management of Companies and Enterprises \n",
       "1278             Management of Companies and Enterprises \n",
       "1279             Management of Companies and Enterprises \n",
       "1280                         Motor Vehicle Manufacturing \n",
       "1281    Support Activities for Transportation ; Manage...\n",
       "1282             Management of Companies and Enterprises \n",
       "1283    Securities, Commodity Contracts, and Other Fin...\n",
       "1284    Business Support Services ;Banking and Credit ...\n",
       "1285    Real Estate ; Management of Companies and Ente...\n",
       "1286    Internet Publishing and Broadcasting and Web S...\n",
       "Name: Industry_List, Length: 1287, dtype: object"
      ]
     },
     "execution_count": 10,
     "metadata": {},
     "output_type": "execute_result"
    }
   ],
   "source": [
    "df_total_liquidity_person_nonzero['Industry_List']"
   ]
  },
  {
   "cell_type": "code",
   "execution_count": 3,
   "metadata": {
    "collapsed": false
   },
   "outputs": [
    {
     "data": {
      "text/plain": [
       "['Shareholder',\n",
       " 'Shareholder_Name_Normalized',\n",
       " 'Company_Profile',\n",
       " 'Company_CNPJ',\n",
       " 'Company_Equity',\n",
       " 'Company_Number',\n",
       " 'Industry_List',\n",
       " 'NAICS_Num_List',\n",
       " 'Industry_Number',\n",
       " 'Total_Deal_Liquidity_Rev',\n",
       " 'Total_Deal_Liquidity_EBIT',\n",
       " 'Total_Dividends_Buyback_NI',\n",
       " 'Total_Dividends_Buyback_Rev',\n",
       " 'Total_Dividends_Buyback_EBIT',\n",
       " 'Total_Stock_Compensation_Rev',\n",
       " 'Total_Liquidity',\n",
       " 'HNWI_1',\n",
       " 'HNWI_10',\n",
       " 'Cash_and_Cash_Equivalents_2016',\n",
       " 'Current_assets_2016',\n",
       " 'Current_liabilities_2016',\n",
       " 'Current_loans_and_borrowings_2016',\n",
       " 'EBITDA_2016',\n",
       " 'Inventories_2016',\n",
       " 'Net_Debt_2016',\n",
       " 'Net_sales_revenue_2016',\n",
       " 'Non-current_assets_2016',\n",
       " 'Non-current_liabilities_2016',\n",
       " 'Profit_before_income_tax_2016',\n",
       " 'Total_assets_2016',\n",
       " 'Total_equity_2016',\n",
       " 'Total_liabilities_2016',\n",
       " 'Trade_and_other_payables_2016',\n",
       " 'Trade_and_other_receivables_2016']"
      ]
     },
     "execution_count": 3,
     "metadata": {},
     "output_type": "execute_result"
    }
   ],
   "source": [
    "df_total_liquidity_person_nonzero"
   ]
  },
  {
   "cell_type": "code",
   "execution_count": 9,
   "metadata": {
    "collapsed": false
   },
   "outputs": [],
   "source": [
    "df_total_liquidity_person_nonzero.sort_values(by=['Total_Liquidity'],inplace=True)\n",
    "df_total_liquidity_person_nonzero.set_index(np.arange(df_total_liquidity_person_nonzero.shape[0]), inplace=True)"
   ]
  },
  {
   "cell_type": "code",
   "execution_count": null,
   "metadata": {
    "collapsed": true
   },
   "outputs": [],
   "source": [
    "# Michel asked for company address information\n",
    "# Save data using .to_excel can make the data correctly separable.\n",
    "df_HNWI_10 = copy.deepcopy(df_total_liquidity_person_nonzero[\n",
    "    df_total_liquidity_person_nonzero[\"HNWI_10\"]==1][[\"Shareholder\",\"Company_Profile\",\"Company_CNPJ\",\"Industry_List\",\"Total_Liquidity\"]])\n",
    "ObtainAddr(df_HNWI_10, df_comp_info_raw)            \n",
    "df_HNWI_10.to_excel('../../Database/EMIS/preprocessed/HNWI_10_sorted.xlsx',encoding='utf16')\n",
    "\n",
    "df_total_liquidity_person_nonzero_less_10 = copy.deepcopy(df_total_liquidity_person_nonzero[\n",
    "    df_total_liquidity_person_nonzero[\"HNWI_10\"]==0])\n",
    "df_HNWI_1 = copy.deepcopy(df_total_liquidity_person_nonzero_less_10[\n",
    "    df_total_liquidity_person_nonzero_less_10[\"HNWI_1\"]==1][[\"Shareholder\",\"Company_Profile\",\"Company_CNPJ\",\"Industry_List\",\"Total_Liquidity\"]])\n",
    "ObtainAddr(df_HNWI_1, df_comp_info_raw)            \n",
    "df_HNWI_1.to_excel('../../Database/EMIS/preprocessed/HNWI_1_sorted.xlsx',encoding='utf16')\n",
    "\n",
    "df_NOT_HNWI = copy.deepcopy(df_total_liquidity_person_nonzero[\n",
    "    df_total_liquidity_person_nonzero[\"HNWI_1\"]==0][[\"Shareholder\",\"Company_Profile\",\"Company_CNPJ\",\"Industry_List\",\"Total_Liquidity\"]])\n",
    "ObtainAddr(df_NOT_HNWI, df_comp_info_raw)            \n",
    "df_NOT_HNWI.to_excel('../../Database/EMIS/preprocessed/NOT_HNWI_sorted.xlsx',encoding='utf16')"
   ]
  },
  {
   "cell_type": "code",
   "execution_count": 1,
   "metadata": {
    "collapsed": false
   },
   "outputs": [
    {
     "ename": "UnicodeEncodeError",
     "evalue": "'ascii' codec can't encode character u'\\ufffd' in position 758868: ordinal not in range(128)",
     "output_type": "error",
     "traceback": [
      "\u001b[0;31m---------------------------------------------------------------------------\u001b[0m",
      "\u001b[0;31mUnicodeEncodeError\u001b[0m                        Traceback (most recent call last)",
      "\u001b[0;32m<ipython-input-1-36d164665e31>\u001b[0m in \u001b[0;36m<module>\u001b[0;34m()\u001b[0m\n\u001b[1;32m      7\u001b[0m \u001b[0ma\u001b[0m\u001b[0;34m=\u001b[0m\u001b[0mlist\u001b[0m\u001b[0;34m(\u001b[0m\u001b[0msoup\u001b[0m\u001b[0;34m)\u001b[0m\u001b[0;34m\u001b[0m\u001b[0m\n\u001b[1;32m      8\u001b[0m \u001b[0mdf\u001b[0m \u001b[0;34m=\u001b[0m \u001b[0mpd\u001b[0m\u001b[0;34m.\u001b[0m\u001b[0mDataFrame\u001b[0m\u001b[0;34m(\u001b[0m\u001b[0mdata\u001b[0m\u001b[0;34m=\u001b[0m\u001b[0ma\u001b[0m\u001b[0;34m)\u001b[0m\u001b[0;34m\u001b[0m\u001b[0m\n\u001b[0;32m----> 9\u001b[0;31m \u001b[0mdf\u001b[0m\u001b[0;34m.\u001b[0m\u001b[0mto_csv\u001b[0m\u001b[0;34m(\u001b[0m\u001b[0;34m\"DF_sheel.csv\"\u001b[0m\u001b[0;34m,\u001b[0m \u001b[0msep\u001b[0m\u001b[0;34m=\u001b[0m\u001b[0;34m\"\\t\"\u001b[0m\u001b[0;34m)\u001b[0m\u001b[0;34m\u001b[0m\u001b[0m\n\u001b[0m",
      "\u001b[0;32m/Users/kungangzhang/.local/lib/python2.7/site-packages/pandas/core/frame.pyc\u001b[0m in \u001b[0;36mto_csv\u001b[0;34m(self, path_or_buf, sep, na_rep, float_format, columns, header, index, index_label, mode, encoding, compression, quoting, quotechar, line_terminator, chunksize, tupleize_cols, date_format, doublequote, escapechar, decimal)\u001b[0m\n\u001b[1;32m   1522\u001b[0m                                      \u001b[0mdoublequote\u001b[0m\u001b[0;34m=\u001b[0m\u001b[0mdoublequote\u001b[0m\u001b[0;34m,\u001b[0m\u001b[0;34m\u001b[0m\u001b[0m\n\u001b[1;32m   1523\u001b[0m                                      escapechar=escapechar, decimal=decimal)\n\u001b[0;32m-> 1524\u001b[0;31m         \u001b[0mformatter\u001b[0m\u001b[0;34m.\u001b[0m\u001b[0msave\u001b[0m\u001b[0;34m(\u001b[0m\u001b[0;34m)\u001b[0m\u001b[0;34m\u001b[0m\u001b[0m\n\u001b[0m\u001b[1;32m   1525\u001b[0m \u001b[0;34m\u001b[0m\u001b[0m\n\u001b[1;32m   1526\u001b[0m         \u001b[0;32mif\u001b[0m \u001b[0mpath_or_buf\u001b[0m \u001b[0;32mis\u001b[0m \u001b[0mNone\u001b[0m\u001b[0;34m:\u001b[0m\u001b[0;34m\u001b[0m\u001b[0m\n",
      "\u001b[0;32m/Users/kungangzhang/.local/lib/python2.7/site-packages/pandas/io/formats/format.pyc\u001b[0m in \u001b[0;36msave\u001b[0;34m(self)\u001b[0m\n\u001b[1;32m   1650\u001b[0m                 \u001b[0mself\u001b[0m\u001b[0;34m.\u001b[0m\u001b[0mwriter\u001b[0m \u001b[0;34m=\u001b[0m \u001b[0mUnicodeWriter\u001b[0m\u001b[0;34m(\u001b[0m\u001b[0mf\u001b[0m\u001b[0;34m,\u001b[0m \u001b[0;34m**\u001b[0m\u001b[0mwriter_kwargs\u001b[0m\u001b[0;34m)\u001b[0m\u001b[0;34m\u001b[0m\u001b[0m\n\u001b[1;32m   1651\u001b[0m \u001b[0;34m\u001b[0m\u001b[0m\n\u001b[0;32m-> 1652\u001b[0;31m             \u001b[0mself\u001b[0m\u001b[0;34m.\u001b[0m\u001b[0m_save\u001b[0m\u001b[0;34m(\u001b[0m\u001b[0;34m)\u001b[0m\u001b[0;34m\u001b[0m\u001b[0m\n\u001b[0m\u001b[1;32m   1653\u001b[0m \u001b[0;34m\u001b[0m\u001b[0m\n\u001b[1;32m   1654\u001b[0m         \u001b[0;32mfinally\u001b[0m\u001b[0;34m:\u001b[0m\u001b[0;34m\u001b[0m\u001b[0m\n",
      "\u001b[0;32m/Users/kungangzhang/.local/lib/python2.7/site-packages/pandas/io/formats/format.pyc\u001b[0m in \u001b[0;36m_save\u001b[0;34m(self)\u001b[0m\n\u001b[1;32m   1752\u001b[0m                 \u001b[0;32mbreak\u001b[0m\u001b[0;34m\u001b[0m\u001b[0m\n\u001b[1;32m   1753\u001b[0m \u001b[0;34m\u001b[0m\u001b[0m\n\u001b[0;32m-> 1754\u001b[0;31m             \u001b[0mself\u001b[0m\u001b[0;34m.\u001b[0m\u001b[0m_save_chunk\u001b[0m\u001b[0;34m(\u001b[0m\u001b[0mstart_i\u001b[0m\u001b[0;34m,\u001b[0m \u001b[0mend_i\u001b[0m\u001b[0;34m)\u001b[0m\u001b[0;34m\u001b[0m\u001b[0m\n\u001b[0m\u001b[1;32m   1755\u001b[0m \u001b[0;34m\u001b[0m\u001b[0m\n\u001b[1;32m   1756\u001b[0m     \u001b[0;32mdef\u001b[0m \u001b[0m_save_chunk\u001b[0m\u001b[0;34m(\u001b[0m\u001b[0mself\u001b[0m\u001b[0;34m,\u001b[0m \u001b[0mstart_i\u001b[0m\u001b[0;34m,\u001b[0m \u001b[0mend_i\u001b[0m\u001b[0;34m)\u001b[0m\u001b[0;34m:\u001b[0m\u001b[0;34m\u001b[0m\u001b[0m\n",
      "\u001b[0;32m/Users/kungangzhang/.local/lib/python2.7/site-packages/pandas/io/formats/format.pyc\u001b[0m in \u001b[0;36m_save_chunk\u001b[0;34m(self, start_i, end_i)\u001b[0m\n\u001b[1;32m   1778\u001b[0m                                         quoting=self.quoting)\n\u001b[1;32m   1779\u001b[0m \u001b[0;34m\u001b[0m\u001b[0m\n\u001b[0;32m-> 1780\u001b[0;31m         \u001b[0mlib\u001b[0m\u001b[0;34m.\u001b[0m\u001b[0mwrite_csv_rows\u001b[0m\u001b[0;34m(\u001b[0m\u001b[0mself\u001b[0m\u001b[0;34m.\u001b[0m\u001b[0mdata\u001b[0m\u001b[0;34m,\u001b[0m \u001b[0mix\u001b[0m\u001b[0;34m,\u001b[0m \u001b[0mself\u001b[0m\u001b[0;34m.\u001b[0m\u001b[0mnlevels\u001b[0m\u001b[0;34m,\u001b[0m \u001b[0mself\u001b[0m\u001b[0;34m.\u001b[0m\u001b[0mcols\u001b[0m\u001b[0;34m,\u001b[0m \u001b[0mself\u001b[0m\u001b[0;34m.\u001b[0m\u001b[0mwriter\u001b[0m\u001b[0;34m)\u001b[0m\u001b[0;34m\u001b[0m\u001b[0m\n\u001b[0m\u001b[1;32m   1781\u001b[0m \u001b[0;34m\u001b[0m\u001b[0m\n\u001b[1;32m   1782\u001b[0m \u001b[0;34m\u001b[0m\u001b[0m\n",
      "\u001b[0;32mpandas/_libs/lib.pyx\u001b[0m in \u001b[0;36mpandas._libs.lib.write_csv_rows\u001b[0;34m()\u001b[0m\n",
      "\u001b[0;31mUnicodeEncodeError\u001b[0m: 'ascii' codec can't encode character u'\\ufffd' in position 758868: ordinal not in range(128)"
     ]
    }
   ],
   "source": [
    "from bs4 import BeautifulSoup\n",
    "import requests\n",
    "import pandas as pd\n",
    "import numpy as np\n",
    "page = requests.get('http://idg.receita.fazenda.gov.br/orientacao/tributaria/cadastros/cadastro-nacional-de-pessoas-juridicas-cnpj/consultas/download/F.K03200UF.D71214SP')\n",
    "soup = BeautifulSoup(page.text, 'html.parser')\n",
    "a=list(soup)\n",
    "df = pd.DataFrame(data=a)\n",
    "df.to_csv(\"DF_sheel.csv\", sep=\"\\t\")"
   ]
  },
  {
   "cell_type": "code",
   "execution_count": null,
   "metadata": {
    "collapsed": true
   },
   "outputs": [],
   "source": []
  }
 ],
 "metadata": {
  "kernelspec": {
   "display_name": "Python 2",
   "language": "python",
   "name": "python2"
  },
  "language_info": {
   "codemirror_mode": {
    "name": "ipython",
    "version": 2
   },
   "file_extension": ".py",
   "mimetype": "text/x-python",
   "name": "python",
   "nbconvert_exporter": "python",
   "pygments_lexer": "ipython2",
   "version": "2.7.14"
  }
 },
 "nbformat": 4,
 "nbformat_minor": 0
}
